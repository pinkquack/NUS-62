{
 "cells": [
  {
   "cell_type": "code",
   "execution_count": null,
   "id": "4fce03c5-dd15-4633-ac07-ed2051662f94",
   "metadata": {},
   "outputs": [],
   "source": [
    "import pandas as pd\n",
    "filepath = \"./data/catA_train.csv\"\n",
    "df1 = pd.read_csv(filepath)\n",
    "display(df1)"
   ]
  },
  {
   "cell_type": "code",
   "execution_count": null,
   "id": "375cf3a6-a7d4-4f04-8902-85b3e766078e",
   "metadata": {},
   "outputs": [],
   "source": [
    "df1.drop(['AccountID', 'Company', 'Industry', 'Square Footage', 'Employees (Single Site)', 'Employees (Domestic Ultimate Total)', 'Employees (Global Ultimate Total)', 'Parent Company', 'Parent Country'], axis=1, inplace=True)\n",
    "df2 = df1.dropna(subset=[\"LATITUDE\", \"LONGITUDE\"])\n",
    "print(df2.isna().sum())"
   ]
  },
  {
   "cell_type": "code",
   "execution_count": null,
   "id": "7f9b9cca-0774-4184-a99c-437077e027a3",
   "metadata": {},
   "outputs": [],
   "source": [
    "df2.describe()"
   ]
  },
  {
   "cell_type": "code",
   "execution_count": null,
   "id": "2acc8e24-e8c9-4741-b853-250cab946ab0",
   "metadata": {},
   "outputs": [],
   "source": [
    "import seaborn as sns\n",
    "import matplotlib.pyplot as plt\n",
    "import numpy as np\n",
    "import scipy\n",
    "import sklearn\n",
    "from sklearn.experimental import enable_iterative_imputer\n",
    "from sklearn.impute import SimpleImputer, IterativeImputer, KNNImputer\n",
    "from sklearn.preprocessing import OneHotEncoder\n",
    "from sklearn.compose import make_column_transformer\n",
    "from sklearn.pipeline import make_pipeline\n",
    "from sklearn.ensemble import RandomForestClassifier\n",
    "from sklearn.model_selection import cross_val_score"
   ]
  },
  {
   "cell_type": "code",
   "execution_count": null,
   "id": "8ca011c3-14b0-46b2-bb3a-e3eabdbeea18",
   "metadata": {},
   "outputs": [],
   "source": [
    "df2['Import/Export Status'].nunique()\n",
    "df2['Import/Export Status'].unique()"
   ]
  },
  {
   "cell_type": "code",
   "execution_count": null,
   "id": "be18aee2-c01a-462d-a8aa-b9ebd3626d99",
   "metadata": {},
   "outputs": [],
   "source": [
    "df3 = df2[df2['Company Status (Active/Inactive)'] == 'Active']\n",
    "df3['Import/Export Status_Missing'] = df2['Import/Export Status'].isna()\n",
    "df4 = pd.get_dummies(df3, columns=['Entity Type'], prefix='Entity_Type')\n",
    "df5 = pd.get_dummies(df4, columns=['Ownership Type'], prefix='Ownership_Type')\n",
    "df6 = pd.get_dummies(df5, columns=['Import/Export Status'], prefix='Import_Export_Status')"
   ]
  },
  {
   "cell_type": "code",
   "execution_count": null,
   "id": "bdd5eaa2-e854-405b-bc71-23c65c5ed365",
   "metadata": {},
   "outputs": [],
   "source": [
    "sic_code_frequency = df6['SIC Code'].value_counts()\n",
    "threshold = 20\n",
    "low_frequency_sic_codes = sic_code_frequency[sic_code_frequency < threshold].index\n",
    "df6['SIC Code'] = df6['SIC Code'].replace(low_frequency_sic_codes, 'Others')\n",
    "sic_code_frequency1 = df6['SIC Code'].value_counts()\n",
    "print(sic_code_frequency1)"
   ]
  },
  {
   "cell_type": "code",
   "execution_count": null,
   "id": "2bd04e7b-637a-4784-997c-a2b4892f74db",
   "metadata": {},
   "outputs": [],
   "source": [
    "df6['SIC Code'] = df6['SIC Code'].astype(str)\n",
    "from sklearn.preprocessing import LabelEncoder\n",
    "label_encoder = LabelEncoder()\n",
    "df6['SIC Code'] = label_encoder.fit_transform(df6['SIC Code'])\n",
    "df6[\"SIC Code\"].unique()"
   ]
  },
  {
   "cell_type": "code",
   "execution_count": null,
   "id": "d41c8da8-1131-4f5e-a694-a3b08654db89",
   "metadata": {},
   "outputs": [],
   "source": [
    "df6.drop(['8-Digit SIC Code', '8-Digit SIC Description', 'Global Ultimate Company', 'Domestic Ultimate Company'], axis=1, inplace=True)\n",
    "global_country_frequency = df6['Global Ultimate Country'].value_counts()\n",
    "threshold = 1\n",
    "low_frequency_global_country = global_country_frequency[global_country_frequency < threshold].index\n",
    "df6['Global Ultimate Country'] = df6['Global Ultimate Country'].replace(low_frequency_global_country, 'Others')\n",
    "global_country_frequency1 = df6['Global Ultimate Country'].value_counts()\n",
    "print(global_country_frequency1)"
   ]
  },
  {
   "cell_type": "code",
   "execution_count": null,
   "id": "10c7d646-e9f2-4bf0-b306-9d77f213b812",
   "metadata": {},
   "outputs": [],
   "source": [
    "df6['Global Ultimate Country'] = df6['Global Ultimate Country'].astype(str)\n",
    "df6['Global Ultimate Country'] = label_encoder.fit_transform(df6['Global Ultimate Country'])\n",
    "df6[\"Global Ultimate Country\"].unique()"
   ]
  },
  {
   "cell_type": "code",
   "execution_count": null,
   "id": "baaf2d48-4feb-44cd-8391-24ad322b7fa0",
   "metadata": {},
   "outputs": [],
   "source": [
    "df6.drop(['Company Description'], axis=1, inplace=True)\n",
    "df6 = df6.dropna(subset=['Year Found'])\n",
    "df6['Is Domestic Ultimate'] = df6['Is Domestic Ultimate'] == 1\n",
    "df6['Is Global Ultimate'] = df6['Is Global Ultimate'] == 1\n",
    "display(df6)"
   ]
  },
  {
   "cell_type": "code",
   "execution_count": null,
   "id": "173edca1-d980-47d5-933f-d8a88f8b32bd",
   "metadata": {},
   "outputs": [],
   "source": [
    "numerical_df = df6.select_dtypes(include=['float64', 'int64'])\n",
    "correlation_matrix = numerical_df.corr()\n",
    "correlation_df = sns.heatmap(correlation_matrix, annot = True, fmt = '.2f', cmap = 'coolwarm')\n",
    "display(correlation_df)"
   ]
  },
  {
   "cell_type": "code",
   "execution_count": null,
   "id": "5bd17653-73ce-489f-8848-913cdc1b0f22",
   "metadata": {},
   "outputs": [],
   "source": [
    "from matplotlib.colors import LogNorm\n",
    "norm = LogNorm()\n",
    "cmap = 'plasma'\n",
    "scatter = plt.scatter(df6['LONGITUDE'], df6['LATITUDE'], c=df6['Sales (Domestic Ultimate Total USD)'], cmap=cmap, s=5, norm=norm)\n",
    "cbar = plt.colorbar(scatter, label='Sales')\n",
    "plt.xlabel('Longitude')\n",
    "plt.ylabel('Latitude')\n",
    "plt.title('Scatter Plot with Colors Based on Sales (LogNorm)')\n",
    "plt.show()"
   ]
  },
  {
   "cell_type": "code",
   "execution_count": null,
   "id": "8e44f583-3a7a-49c7-b410-507a57f73dc9",
   "metadata": {},
   "outputs": [],
   "source": [
    "constant_color = 'purple'\n",
    "sic_palette = sns.color_palette('Set1', n_colors=len(df6['SIC Code'].unique()))\n",
    "sic_colors = dict(zip(df6['SIC Code'].unique(), sic_palette))\n",
    "scatter = plt.scatter(df6['LONGITUDE'], df6['LATITUDE'], c=df6['SIC Code'].map(sic_colors), s=3, alpha=norm(df6['Sales (Domestic Ultimate Total USD)']))\n",
    "cbar = plt.colorbar(scatter, label='SIC Code')\n",
    "plt.xlabel('Longitude')\n",
    "plt.ylabel('Latitude')\n",
    "plt.title('Scatter Plot with Varying Color by SIC Code and Varying Alpha Based on Sales (LogNorm)')\n",
    "plt.show()"
   ]
  },
  {
   "cell_type": "code",
   "execution_count": null,
   "id": "3117ec86-a1f6-4b79-be99-c9352de70862",
   "metadata": {},
   "outputs": [],
   "source": [
    "df6.drop(['Company Status (Active/Inactive)', 'Fiscal Year End', 'Entity_Type_Branch', 'Entity_Type_Independent', 'Entity_Type_Parent', 'Entity_Type_Subsidiary', 'Ownership_Type_Non-Corporates', 'Ownership_Type_Nonprofit', 'Ownership_Type_Partnership',\n",
    "       'Ownership_Type_Private', 'Ownership_Type_Public', 'Ownership_Type_Public Sector','Import_Export_Status_Both Imports & Exports','Import/Export Status_Missing'], axis=1, inplace=True)\n",
    "df6['Is Domestic Ultimate'] = df6['Is Domestic Ultimate'] == 1\n",
    "df6['Is Global Ultimate'] = df6['Is Global Ultimate'] == 1\n",
    "df6['Domestic Ultimate'] = df6['Is Domestic Ultimate'].astype(int)\n",
    "df6['Global Ultimate'] = df6['Is Global Ultimate'].astype(int)\n",
    "df6.drop(['Is Domestic Ultimate', 'Is Global Ultimate'], axis=1, inplace=True)\n",
    "df6['Exports'] = df6['Import_Export_Status_Exports'].astype(int)\n",
    "df6['Imports'] = df6['Import_Export_Status_Imports'].astype(int)\n",
    "df6.drop(['Import_Export_Status_Exports', 'Import_Export_Status_Imports'], axis=1, inplace=True)\n",
    "display(df6)"
   ]
  },
  {
   "cell_type": "code",
   "execution_count": null,
   "id": "0dd1bab3-7f58-492a-ae8c-21d2d1a0e9dc",
   "metadata": {},
   "outputs": [],
   "source": [
    "from sklearn.model_selection import train_test_split\n",
    "from sklearn.model_selection import KFold\n",
    "from sklearn.model_selection import cross_val_score\n",
    "from sklearn.linear_model import LinearRegression\n",
    "from sklearn.ensemble import GradientBoostingRegressor\n",
    "X = df6.drop('Sales (Domestic Ultimate Total USD)', axis=1)\n",
    "y = df6['Sales (Domestic Ultimate Total USD)']\n",
    "X_train, X_test, y_train, y_test = train_test_split(X, y, test_size=0.2, random_state=42)\n",
    "model = GradientBoostingRegressor(random_state=42)"
   ]
  },
  {
   "cell_type": "code",
   "execution_count": null,
   "id": "372b8a31-a087-4d26-b3b3-1d56ed87c26d",
   "metadata": {},
   "outputs": [],
   "source": [
    "model_10 = GradientBoostingRegressor(random_state=42)\n",
    "kf = KFold(n_splits=10, shuffle=True, random_state=42)\n",
    "\n",
    "cv_scores = cross_val_score(model, X_train, y_train, cv=kf, scoring='r2')\n",
    "\n",
    "print(\"Cross-Validation R-squared scores:\", cv_scores)\n",
    "\n",
    "print(\"Mean R-squared score:\", cv_scores.mean())\n",
    "print(\"Standard Deviation of R-squared scores:\", cv_scores.std())\n",
    "\n",
    "model_10.fit(X_train, y_train)\n",
    "\n",
    "test_score = model_10.score(X_test, y_test)\n",
    "print(\"Test R-squared score:\", test_score)"
   ]
  },
  {
   "cell_type": "code",
   "execution_count": null,
   "id": "0b818a3f-2340-4119-8c30-fbca24aa54fe",
   "metadata": {},
   "outputs": [],
   "source": [
    "import joblib\n",
    "joblib.dump(model_10, 'base_model.h5')"
   ]
  },
  {
   "cell_type": "code",
   "execution_count": null,
   "id": "580e659e-31f9-459b-b116-7cb07c9b8128",
   "metadata": {},
   "outputs": [],
   "source": [
    "def test_model(data):\n",
    "    loaded_model = joblib.load('./base_model.h5')\n",
    "    predictions = loaded_model.predict(data)\n",
    "    return predictions\n",
    "\n",
    "last_row = X_test.iloc[[1]]\n",
    "\n",
    "print(test_model(last_row))"
   ]
  },
  {
   "cell_type": "code",
   "execution_count": null,
   "id": "a72df38a-6d56-4055-9849-59d631129d88",
   "metadata": {},
   "outputs": [],
   "source": [
    "def testing_hidden_data(hidden_data: pd.DataFrame) -> list:\n",
    "    '''DO NOT REMOVE THIS FUNCTION.\n",
    "\n",
    "The function accepts a dataframe as input and return an iterable (list)\n",
    "of binary classes as output.\n",
    "\n",
    "The function should be coded to test on hidden data\n",
    "and should include any preprocessing functions needed for your model to perform. \n",
    "    \n",
    "All relevant code MUST be included in this function.'''\n",
    "\n",
    "    result = [] \n",
    "    return result"
   ]
  },
  {
   "cell_type": "code",
   "execution_count": null,
   "id": "a49d5a8a-9821-4b50-8115-e88ed5c4706a",
   "metadata": {},
   "outputs": [],
   "source": [
    "test_df = pd.read_csv(filepath)\n",
    "test_df = test_df.drop(columns=['Sales (Domestic Ultimate Total USD)'])\n",
    "print(testing_hidden_data(test_df))"
   ]
  }
 ],
 "metadata": {
  "kernelspec": {
   "display_name": "Python 3 (ipykernel)",
   "language": "python",
   "name": "python3"
  },
  "language_info": {
   "codemirror_mode": {
    "name": "ipython",
    "version": 3
   },
   "file_extension": ".py",
   "mimetype": "text/x-python",
   "name": "python",
   "nbconvert_exporter": "python",
   "pygments_lexer": "ipython3",
   "version": "3.12.1"
  }
 },
 "nbformat": 4,
 "nbformat_minor": 5
}
